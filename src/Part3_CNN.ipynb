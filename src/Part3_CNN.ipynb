{
 "cells": [
  {
   "cell_type": "markdown",
   "metadata": {},
   "source": [
    "### Import Libraries"
   ]
  },
  {
   "cell_type": "code",
   "execution_count": 1,
   "metadata": {},
   "outputs": [],
   "source": [
    "import tensorflow as tf\n",
    "import numpy as np\n",
    "import matplotlib.pyplot as plt\n",
    "import tensorflow.contrib.slim as slim\n",
    "from sklearn.metrics import confusion_matrix\n",
    "from sklearn.metrics import accuracy_score\n",
    "from sklearn.metrics import classification_report\n",
    "from sklearn.model_selection import train_test_split\n",
    "\n",
    "from parseData import Cifar\n",
    "import cifar_model\n",
    "from cifar_model import buildFCmodel,trainModel\n",
    "\n",
    "from util import plotTrainTest"
   ]
  },
  {
   "cell_type": "markdown",
   "metadata": {},
   "source": [
    "### Prepare dataset handle"
   ]
  },
  {
   "cell_type": "code",
   "execution_count": 2,
   "metadata": {},
   "outputs": [
    {
     "name": "stdout",
     "output_type": "stream",
     "text": [
      "('Number of train examples: ', 40000)\n",
      "('Number of test examples: ', 10000)\n"
     ]
    }
   ],
   "source": [
    "from parseData import Cifar\n",
    "dataPath = '/home/adityav/UCSD/Spring17/COGS260_ImageRecognition/HW3/data/cifarData/'\n",
    "cifar = Cifar(dataPath,batchSize = 128, splitRatio = 0.2)"
   ]
  },
  {
   "cell_type": "markdown",
   "metadata": {},
   "source": [
    "### Config"
   ]
  },
  {
   "cell_type": "code",
   "execution_count": 3,
   "metadata": {
    "collapsed": true
   },
   "outputs": [],
   "source": [
    "performBN                  =   True # performBN(batch normalization) : True to perform Batch normalization else False\n",
    "\n",
    "optimizerDict = {}\n",
    "optimizerDict['type']      =  'AdaGrad'  #  'SGD','Nesterov','RMSprop', AdaGrad\n",
    "optimizerDict['lr']        =   0.01 \n",
    "optimizerDict['momentum']  =   0.5   # no relevance for SGD/AdaGrad`\n",
    "optimizerDict['dynamic']   =   False\n",
    "\n",
    "keep_prob                  =   1"
   ]
  },
  {
   "cell_type": "markdown",
   "metadata": {},
   "source": [
    "### Build FC Model"
   ]
  },
  {
   "cell_type": "code",
   "execution_count": 4,
   "metadata": {},
   "outputs": [
    {
     "name": "stdout",
     "output_type": "stream",
     "text": [
      "('Total number of trainable parameters: ', 197738)\n",
      "Time to build the network 1.07s\n"
     ]
    }
   ],
   "source": [
    "tf.reset_default_graph() \n",
    "fcModelParam = buildFCmodel(optimizerDict,performBN = performBN)\n",
    "#fcModelParam->dictionary\n",
    "#keys: x,y_true,y_pred,keep_prob,loss,train_step,accuracy\n",
    "\n",
    "\n",
    "sess = tf.Session()\n",
    "sess.run(tf.global_variables_initializer())\n",
    "writer = tf.summary.FileWriter(\"./graphs\",sess.graph)\n",
    "writer.close()\n",
    "\n",
    "train_loss_hist = []\n",
    "train_accuracy_hist = []\n",
    "test_loss_hist = []\n",
    "test_accuracy_hist = []"
   ]
  },
  {
   "cell_type": "code",
   "execution_count": 7,
   "metadata": {
    "scrolled": true
   },
   "outputs": [
    {
     "name": "stdout",
     "output_type": "stream",
     "text": [
      "Training Network\n",
      "Step 0, \t Accuracy: 0.25 , \t Train Loss: 2.10, \t Test Loss: 2.01 \n",
      "Step 50, \t Accuracy: 0.30 , \t Train Loss: 1.94, \t Test Loss: 1.91 \n",
      "Step 100, \t Accuracy: 0.26 , \t Train Loss: 1.92, \t Test Loss: 1.87 \n",
      "Step 150, \t Accuracy: 0.41 , \t Train Loss: 1.73, \t Test Loss: 1.84 \n",
      "Test Complete.\n",
      " Accuracy: 0.369\n"
     ]
    },
    {
     "data": {
      "image/png": "[encoded data removed]",
      "text/plain": [
       "<matplotlib.figure.Figure at 0x7fac7f3cb350>"
      ]
     },
     "metadata": {},
     "output_type": "display_data"
    },
    {
     "ename": "TypeError",
     "evalue": "'NoneType' object is not iterable",
     "output_type": "error",
     "traceback": [
      "\u001b[0;31m---------------------------------------------------------------------------\u001b[0m",
      "\u001b[0;31mTypeError\u001b[0m                                 Traceback (most recent call last)",
      "\u001b[0;32m<ipython-input-7-0aef25a57e35>\u001b[0m in \u001b[0;36m<module>\u001b[0;34m()\u001b[0m\n\u001b[1;32m      1\u001b[0m \u001b[0mnIter\u001b[0m \u001b[0;34m=\u001b[0m \u001b[0;36m200\u001b[0m\u001b[0;34m\u001b[0m\u001b[0m\n\u001b[1;32m      2\u001b[0m \u001b[0;32mwith\u001b[0m \u001b[0msess\u001b[0m\u001b[0;34m.\u001b[0m\u001b[0mas_default\u001b[0m\u001b[0;34m(\u001b[0m\u001b[0;34m)\u001b[0m\u001b[0;34m:\u001b[0m\u001b[0;34m\u001b[0m\u001b[0m\n\u001b[0;32m----> 3\u001b[0;31m     \u001b[0;34m[\u001b[0m\u001b[0mtrain_loss\u001b[0m\u001b[0;34m,\u001b[0m\u001b[0mtrain_acc\u001b[0m\u001b[0;34m,\u001b[0m\u001b[0mtest_loss\u001b[0m\u001b[0;34m,\u001b[0m\u001b[0mtest_acc\u001b[0m\u001b[0;34m]\u001b[0m \u001b[0;34m=\u001b[0m \u001b[0mtrainModel\u001b[0m\u001b[0;34m(\u001b[0m\u001b[0msess\u001b[0m\u001b[0;34m,\u001b[0m\u001b[0mfcModelParam\u001b[0m\u001b[0;34m,\u001b[0m\u001b[0mcifar\u001b[0m\u001b[0;34m,\u001b[0m\u001b[0mkeep_prob\u001b[0m \u001b[0;34m=\u001b[0m \u001b[0mkeep_prob\u001b[0m\u001b[0;34m,\u001b[0m \u001b[0mnIter\u001b[0m \u001b[0;34m=\u001b[0m \u001b[0mnIter\u001b[0m\u001b[0;34m,\u001b[0m \u001b[0mbatchSize\u001b[0m \u001b[0;34m=\u001b[0m \u001b[0;36m128\u001b[0m\u001b[0;34m)\u001b[0m\u001b[0;34m\u001b[0m\u001b[0m\n\u001b[0m\u001b[1;32m      4\u001b[0m \u001b[0;34m\u001b[0m\u001b[0m\n\u001b[1;32m      5\u001b[0m     \u001b[0mtrain_loss_hist\u001b[0m        \u001b[0;34m=\u001b[0m        \u001b[0mtrain_loss_hist\u001b[0m \u001b[0;34m+\u001b[0m \u001b[0mtrain_loss\u001b[0m\u001b[0;34m\u001b[0m\u001b[0m\n",
      "\u001b[0;31mTypeError\u001b[0m: 'NoneType' object is not iterable"
     ]
    }
   ],
   "source": [
    "nIter = 200\n",
    "with sess.as_default():\n",
    "    [train_loss,train_acc,test_loss,test_acc] = trainModel(sess,fcModelParam,cifar,keep_prob = keep_prob, nIter = nIter, batchSize = 128)\n",
    "    \n",
    "    train_loss_hist        =        train_loss_hist + train_loss\n",
    "    train_accuracy_hist    =        train_accuracy_hist + train_acc\n",
    "    test_loss_hist         =        test_loss_hist + test_loss\n",
    "    test_accuracy_hist     =        test_accuracy_hist + test_acc\n",
    "    \n",
    "plotTrainTest(train_loss_hist,test_loss_hist,\"Loss vs Epocs\",\"Epocs\",\"Loss\")\n",
    "plotTrainTest(train_accuracy_hist,test_accuracy_hist,\"Accuracy vs Epocs\",\"Epocs\",\"Accuracy(%)\")"
   ]
  },
  {
   "cell_type": "code",
   "execution_count": null,
   "metadata": {
    "collapsed": true
   },
   "outputs": [],
   "source": [
    "sess.close()"
   ]
  }
 ],
 "metadata": {
  "anaconda-cloud": {},
  "kernelspec": {
   "display_name": "cv",
   "language": "python",
   "name": "cv"
  },
  "language_info": {
   "codemirror_mode": {
    "name": "ipython",
    "version": 2
   },
   "file_extension": ".py",
   "mimetype": "text/x-python",
   "name": "python",
   "nbconvert_exporter": "python",
   "pygments_lexer": "ipython2",
   "version": "2.7.12"
  }
 },
 "nbformat": 4,
 "nbformat_minor": 1
}
